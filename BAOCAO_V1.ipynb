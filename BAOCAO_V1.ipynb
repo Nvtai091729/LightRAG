{
  "nbformat": 4,
  "nbformat_minor": 0,
  "metadata": {
    "colab": {
      "provenance": [],
      "mount_file_id": "1ZZKbDc8mBWoAthUlWSacbRmQizqbo0Pt",
      "authorship_tag": "ABX9TyMOUMNyrSMyPt0DR5GbDV7H",
      "include_colab_link": true
    },
    "kernelspec": {
      "name": "python3",
      "display_name": "Python 3"
    },
    "language_info": {
      "name": "python"
    }
  },
  "cells": [
    {
      "cell_type": "markdown",
      "metadata": {
        "id": "view-in-github",
        "colab_type": "text"
      },
      "source": [
        "<a href=\"https://colab.research.google.com/github/Nvtai091729/LightRAG/blob/main/BAOCAO_V1.ipynb\" target=\"_parent\"><img src=\"https://colab.research.google.com/assets/colab-badge.svg\" alt=\"Open In Colab\"/></a>"
      ]
    },
    {
      "cell_type": "code",
      "source": [
        "# Kiểm tra GPU trong Google Colab\n",
        "import tensorflow as tf\n",
        "print(\"TensorFlow version:\", tf.__version__)\n",
        "print(\"GPU Available:\", tf.config.list_physical_devices('GPU'))\n"
      ],
      "metadata": {
        "colab": {
          "base_uri": "https://localhost:8080/"
        },
        "id": "YlZwtH72x2SU",
        "outputId": "e1490910-56c7-454b-e12b-442a20ffd98d"
      },
      "execution_count": 8,
      "outputs": [
        {
          "output_type": "stream",
          "name": "stdout",
          "text": [
            "TensorFlow version: 2.18.0\n",
            "GPU Available: []\n"
          ]
        }
      ]
    },
    {
      "cell_type": "code",
      "source": [
        "from google.colab import drive\n",
        "drive.mount('/content/drive')\n"
      ],
      "metadata": {
        "colab": {
          "base_uri": "https://localhost:8080/"
        },
        "id": "pwePMPP7yRyY",
        "outputId": "eca928df-d818-4474-f393-8c5ae5f97a98"
      },
      "execution_count": 9,
      "outputs": [
        {
          "output_type": "stream",
          "name": "stdout",
          "text": [
            "Drive already mounted at /content/drive; to attempt to forcibly remount, call drive.mount(\"/content/drive\", force_remount=True).\n"
          ]
        }
      ]
    },
    {
      "cell_type": "code",
      "execution_count": 11,
      "metadata": {
        "colab": {
          "base_uri": "https://localhost:8080/"
        },
        "collapsed": true,
        "id": "UZaToFSAdFuX",
        "outputId": "71c8c55f-294a-465e-d0d4-0a345e8da302"
      },
      "outputs": [
        {
          "output_type": "stream",
          "name": "stdout",
          "text": [
            "<class 'pandas.core.frame.DataFrame'>\n",
            "RangeIndex: 10000 entries, 0 to 9999\n",
            "Data columns (total 15 columns):\n",
            " #   Column                                   Non-Null Count  Dtype \n",
            "---  ------                                   --------------  ----- \n",
            " 0   Student_ID                               10000 non-null  object\n",
            " 1   Age                                      10000 non-null  int64 \n",
            " 2   Gender                                   10000 non-null  object\n",
            " 3   Study_Hours_per_Week                     10000 non-null  int64 \n",
            " 4   Preferred_Learning_Style                 10000 non-null  object\n",
            " 5   Online_Courses_Completed                 10000 non-null  int64 \n",
            " 6   Participation_in_Discussions             10000 non-null  object\n",
            " 7   Assignment_Completion_Rate (%)           10000 non-null  int64 \n",
            " 8   Exam_Score (%)                           10000 non-null  int64 \n",
            " 9   Attendance_Rate (%)                      10000 non-null  int64 \n",
            " 10  Use_of_Educational_Tech                  10000 non-null  object\n",
            " 11  Self_Reported_Stress_Level               10000 non-null  object\n",
            " 12  Time_Spent_on_Social_Media (hours/week)  10000 non-null  int64 \n",
            " 13  Sleep_Hours_per_Night                    10000 non-null  int64 \n",
            " 14  Final_Grade                              10000 non-null  object\n",
            "dtypes: int64(8), object(7)\n",
            "memory usage: 1.1+ MB\n",
            "None\n",
            "  Student_ID  Age  Gender  Study_Hours_per_Week Preferred_Learning_Style  \\\n",
            "0     S00001   18  Female                    48              Kinesthetic   \n",
            "1     S00002   29  Female                    30          Reading/Writing   \n",
            "2     S00003   20  Female                    47              Kinesthetic   \n",
            "3     S00004   23  Female                    13                 Auditory   \n",
            "4     S00005   19  Female                    24                 Auditory   \n",
            "\n",
            "   Online_Courses_Completed Participation_in_Discussions  \\\n",
            "0                        14                          Yes   \n",
            "1                        20                           No   \n",
            "2                        11                           No   \n",
            "3                         0                          Yes   \n",
            "4                        19                          Yes   \n",
            "\n",
            "   Assignment_Completion_Rate (%)  Exam_Score (%)  Attendance_Rate (%)  \\\n",
            "0                             100              69                   66   \n",
            "1                              71              40                   57   \n",
            "2                              60              43                   79   \n",
            "3                              63              70                   60   \n",
            "4                              59              63                   93   \n",
            "\n",
            "  Use_of_Educational_Tech Self_Reported_Stress_Level  \\\n",
            "0                     Yes                       High   \n",
            "1                     Yes                     Medium   \n",
            "2                     Yes                        Low   \n",
            "3                     Yes                        Low   \n",
            "4                     Yes                     Medium   \n",
            "\n",
            "   Time_Spent_on_Social_Media (hours/week)  Sleep_Hours_per_Night Final_Grade  \n",
            "0                                        9                      8           C  \n",
            "1                                       28                      8           D  \n",
            "2                                       13                      7           D  \n",
            "3                                       24                     10           B  \n",
            "4                                       26                      8           C  \n"
          ]
        }
      ],
      "source": [
        "import pandas as pd\n",
        "\n",
        "# Đọc tập dữ liệu\n",
        "file_path = '/content/student_dataset.csv'  # Đảm bảo tải file lên Colab hoặc Drive\n",
        "data = pd.read_csv(file_path)\n",
        "\n",
        "# Kiểm tra thông tin dữ liệu\n",
        "print(data.info())\n",
        "print(data.head())\n"
      ]
    },
    {
      "cell_type": "code",
      "source": [
        "from sklearn.model_selection import train_test_split\n",
        "from sklearn.preprocessing import StandardScaler, LabelEncoder\n",
        "\n",
        "# Loại bỏ cột không cần thiết\n",
        "data.drop(columns=['Student_ID'], inplace=True)\n",
        "\n",
        "# Mã hóa nhãn (Final_Grade: A, B, C, D, F thành số)\n",
        "label_encoder = LabelEncoder()\n",
        "data['Final_Grade'] = label_encoder.fit_transform(data['Final_Grade'])\n",
        "\n",
        "# One-hot encoding cho biến phân loại\n",
        "data = pd.get_dummies(data, columns=['Gender', 'Preferred_Learning_Style', 'Participation_in_Discussions',\n",
        "                                     'Use_of_Educational_Tech', 'Self_Reported_Stress_Level'])\n",
        "\n",
        "# Chia tập dữ liệu thành đầu vào (X) và nhãn (y)\n",
        "X = data.drop('Final_Grade', axis=1)\n",
        "y = data['Final_Grade']\n",
        "\n",
        "# Chuẩn hóa dữ liệu đầu vào\n",
        "scaler = StandardScaler()\n",
        "X_scaled = scaler.fit_transform(X)\n",
        "\n",
        "# Chia tập huấn luyện (80%) và tập kiểm tra (20%)\n",
        "X_train, X_test, y_train, y_test = train_test_split(X_scaled, y, test_size=0.2, random_state=42)\n",
        "\n",
        "print(\"Shape of X_train:\", X_train.shape)\n",
        "print(\"Shape of y_train:\", y_train.shape)\n"
      ],
      "metadata": {
        "colab": {
          "base_uri": "https://localhost:8080/"
        },
        "id": "ocA6-FGEdsIv",
        "outputId": "f71bd8f8-23b7-4ff2-bec9-feb32b30fa0f"
      },
      "execution_count": 12,
      "outputs": [
        {
          "output_type": "stream",
          "name": "stdout",
          "text": [
            "Shape of X_train: (8000, 22)\n",
            "Shape of y_train: (8000,)\n"
          ]
        }
      ]
    },
    {
      "cell_type": "code",
      "source": [
        "!pip install tensorflow\n"
      ],
      "metadata": {
        "collapsed": true,
        "colab": {
          "base_uri": "https://localhost:8080/"
        },
        "id": "2rIMxRP_i34z",
        "outputId": "835767e3-40f2-43e0-8eb3-1da324f4c77f"
      },
      "execution_count": 13,
      "outputs": [
        {
          "output_type": "stream",
          "name": "stdout",
          "text": [
            "Requirement already satisfied: tensorflow in /usr/local/lib/python3.11/dist-packages (2.18.0)\n",
            "Requirement already satisfied: absl-py>=1.0.0 in /usr/local/lib/python3.11/dist-packages (from tensorflow) (1.4.0)\n",
            "Requirement already satisfied: astunparse>=1.6.0 in /usr/local/lib/python3.11/dist-packages (from tensorflow) (1.6.3)\n",
            "Requirement already satisfied: flatbuffers>=24.3.25 in /usr/local/lib/python3.11/dist-packages (from tensorflow) (25.2.10)\n",
            "Requirement already satisfied: gast!=0.5.0,!=0.5.1,!=0.5.2,>=0.2.1 in /usr/local/lib/python3.11/dist-packages (from tensorflow) (0.6.0)\n",
            "Requirement already satisfied: google-pasta>=0.1.1 in /usr/local/lib/python3.11/dist-packages (from tensorflow) (0.2.0)\n",
            "Requirement already satisfied: libclang>=13.0.0 in /usr/local/lib/python3.11/dist-packages (from tensorflow) (18.1.1)\n",
            "Requirement already satisfied: opt-einsum>=2.3.2 in /usr/local/lib/python3.11/dist-packages (from tensorflow) (3.4.0)\n",
            "Requirement already satisfied: packaging in /usr/local/lib/python3.11/dist-packages (from tensorflow) (24.2)\n",
            "Requirement already satisfied: protobuf!=4.21.0,!=4.21.1,!=4.21.2,!=4.21.3,!=4.21.4,!=4.21.5,<6.0.0dev,>=3.20.3 in /usr/local/lib/python3.11/dist-packages (from tensorflow) (5.29.3)\n",
            "Requirement already satisfied: requests<3,>=2.21.0 in /usr/local/lib/python3.11/dist-packages (from tensorflow) (2.32.3)\n",
            "Requirement already satisfied: setuptools in /usr/local/lib/python3.11/dist-packages (from tensorflow) (75.1.0)\n",
            "Requirement already satisfied: six>=1.12.0 in /usr/local/lib/python3.11/dist-packages (from tensorflow) (1.17.0)\n",
            "Requirement already satisfied: termcolor>=1.1.0 in /usr/local/lib/python3.11/dist-packages (from tensorflow) (2.5.0)\n",
            "Requirement already satisfied: typing-extensions>=3.6.6 in /usr/local/lib/python3.11/dist-packages (from tensorflow) (4.12.2)\n",
            "Requirement already satisfied: wrapt>=1.11.0 in /usr/local/lib/python3.11/dist-packages (from tensorflow) (1.17.2)\n",
            "Requirement already satisfied: grpcio<2.0,>=1.24.3 in /usr/local/lib/python3.11/dist-packages (from tensorflow) (1.71.0)\n",
            "Requirement already satisfied: tensorboard<2.19,>=2.18 in /usr/local/lib/python3.11/dist-packages (from tensorflow) (2.18.0)\n",
            "Requirement already satisfied: keras>=3.5.0 in /usr/local/lib/python3.11/dist-packages (from tensorflow) (3.8.0)\n",
            "Requirement already satisfied: numpy<2.1.0,>=1.26.0 in /usr/local/lib/python3.11/dist-packages (from tensorflow) (2.0.2)\n",
            "Requirement already satisfied: h5py>=3.11.0 in /usr/local/lib/python3.11/dist-packages (from tensorflow) (3.13.0)\n",
            "Requirement already satisfied: ml-dtypes<0.5.0,>=0.4.0 in /usr/local/lib/python3.11/dist-packages (from tensorflow) (0.4.1)\n",
            "Requirement already satisfied: tensorflow-io-gcs-filesystem>=0.23.1 in /usr/local/lib/python3.11/dist-packages (from tensorflow) (0.37.1)\n",
            "Requirement already satisfied: wheel<1.0,>=0.23.0 in /usr/local/lib/python3.11/dist-packages (from astunparse>=1.6.0->tensorflow) (0.45.1)\n",
            "Requirement already satisfied: rich in /usr/local/lib/python3.11/dist-packages (from keras>=3.5.0->tensorflow) (13.9.4)\n",
            "Requirement already satisfied: namex in /usr/local/lib/python3.11/dist-packages (from keras>=3.5.0->tensorflow) (0.0.8)\n",
            "Requirement already satisfied: optree in /usr/local/lib/python3.11/dist-packages (from keras>=3.5.0->tensorflow) (0.14.1)\n",
            "Requirement already satisfied: charset-normalizer<4,>=2 in /usr/local/lib/python3.11/dist-packages (from requests<3,>=2.21.0->tensorflow) (3.4.1)\n",
            "Requirement already satisfied: idna<4,>=2.5 in /usr/local/lib/python3.11/dist-packages (from requests<3,>=2.21.0->tensorflow) (3.10)\n",
            "Requirement already satisfied: urllib3<3,>=1.21.1 in /usr/local/lib/python3.11/dist-packages (from requests<3,>=2.21.0->tensorflow) (2.3.0)\n",
            "Requirement already satisfied: certifi>=2017.4.17 in /usr/local/lib/python3.11/dist-packages (from requests<3,>=2.21.0->tensorflow) (2025.1.31)\n",
            "Requirement already satisfied: markdown>=2.6.8 in /usr/local/lib/python3.11/dist-packages (from tensorboard<2.19,>=2.18->tensorflow) (3.7)\n",
            "Requirement already satisfied: tensorboard-data-server<0.8.0,>=0.7.0 in /usr/local/lib/python3.11/dist-packages (from tensorboard<2.19,>=2.18->tensorflow) (0.7.2)\n",
            "Requirement already satisfied: werkzeug>=1.0.1 in /usr/local/lib/python3.11/dist-packages (from tensorboard<2.19,>=2.18->tensorflow) (3.1.3)\n",
            "Requirement already satisfied: MarkupSafe>=2.1.1 in /usr/local/lib/python3.11/dist-packages (from werkzeug>=1.0.1->tensorboard<2.19,>=2.18->tensorflow) (3.0.2)\n",
            "Requirement already satisfied: markdown-it-py>=2.2.0 in /usr/local/lib/python3.11/dist-packages (from rich->keras>=3.5.0->tensorflow) (3.0.0)\n",
            "Requirement already satisfied: pygments<3.0.0,>=2.13.0 in /usr/local/lib/python3.11/dist-packages (from rich->keras>=3.5.0->tensorflow) (2.18.0)\n",
            "Requirement already satisfied: mdurl~=0.1 in /usr/local/lib/python3.11/dist-packages (from markdown-it-py>=2.2.0->rich->keras>=3.5.0->tensorflow) (0.1.2)\n"
          ]
        }
      ]
    },
    {
      "cell_type": "code",
      "source": [
        "import tensorflow as tf\n",
        "from tensorflow.keras import layers, models\n",
        "\n",
        "# Reshape dữ liệu đầu vào cho CNN (mẫu, đặc trưng, 1 kênh)\n",
        "X_train_cnn = X_train.reshape(X_train.shape[0], X_train.shape[1], 1)\n",
        "X_test_cnn = X_test.reshape(X_test.shape[0], X_test.shape[1], 1)\n",
        "\n",
        "# Xây dựng mô hình CNN\n",
        "cnn_model = models.Sequential([\n",
        "    layers.Conv1D(64, kernel_size=3, activation='relu', input_shape=(X_train_cnn.shape[1], 1)),\n",
        "    layers.MaxPooling1D(pool_size=2),\n",
        "    layers.Conv1D(32, kernel_size=3, activation='relu'),\n",
        "    layers.MaxPooling1D(pool_size=2),\n",
        "    layers.Flatten(),\n",
        "    layers.Dense(128, activation='relu'),\n",
        "    layers.Dense(5, activation='softmax')  # 5 lớp cho 5 nhãn (A, B, C, D, F)\n",
        "])\n",
        "\n",
        "# Compile mô hình\n",
        "cnn_model.compile(optimizer='adam', loss='sparse_categorical_crossentropy', metrics=['accuracy'])\n",
        "\n",
        "# Huấn luyện mô hình\n",
        "history = cnn_model.fit(X_train_cnn, y_train, epochs=50, batch_size=32, validation_split=0.2, verbose=1)\n"
      ],
      "metadata": {
        "colab": {
          "base_uri": "https://localhost:8080/"
        },
        "id": "aJA5JoKFi8vt",
        "outputId": "2ccc3afa-411c-48cd-e49d-7ac04c119577",
        "collapsed": true
      },
      "execution_count": 14,
      "outputs": [
        {
          "output_type": "stream",
          "name": "stderr",
          "text": [
            "/usr/local/lib/python3.11/dist-packages/keras/src/layers/convolutional/base_conv.py:107: UserWarning: Do not pass an `input_shape`/`input_dim` argument to a layer. When using Sequential models, prefer using an `Input(shape)` object as the first layer in the model instead.\n",
            "  super().__init__(activity_regularizer=activity_regularizer, **kwargs)\n"
          ]
        },
        {
          "output_type": "stream",
          "name": "stdout",
          "text": [
            "Epoch 1/50\n",
            "\u001b[1m200/200\u001b[0m \u001b[32m━━━━━━━━━━━━━━━━━━━━\u001b[0m\u001b[37m\u001b[0m \u001b[1m9s\u001b[0m 15ms/step - accuracy: 0.3960 - loss: 1.2633 - val_accuracy: 0.7544 - val_loss: 0.5996\n",
            "Epoch 2/50\n",
            "\u001b[1m200/200\u001b[0m \u001b[32m━━━━━━━━━━━━━━━━━━━━\u001b[0m\u001b[37m\u001b[0m \u001b[1m3s\u001b[0m 4ms/step - accuracy: 0.7746 - loss: 0.5440 - val_accuracy: 0.8363 - val_loss: 0.4052\n",
            "Epoch 3/50\n",
            "\u001b[1m200/200\u001b[0m \u001b[32m━━━━━━━━━━━━━━━━━━━━\u001b[0m\u001b[37m\u001b[0m \u001b[1m1s\u001b[0m 5ms/step - accuracy: 0.8347 - loss: 0.3832 - val_accuracy: 0.8562 - val_loss: 0.3460\n",
            "Epoch 4/50\n",
            "\u001b[1m200/200\u001b[0m \u001b[32m━━━━━━━━━━━━━━━━━━━━\u001b[0m\u001b[37m\u001b[0m \u001b[1m1s\u001b[0m 4ms/step - accuracy: 0.8703 - loss: 0.3105 - val_accuracy: 0.8813 - val_loss: 0.2850\n",
            "Epoch 5/50\n",
            "\u001b[1m200/200\u001b[0m \u001b[32m━━━━━━━━━━━━━━━━━━━━\u001b[0m\u001b[37m\u001b[0m \u001b[1m1s\u001b[0m 4ms/step - accuracy: 0.8820 - loss: 0.2830 - val_accuracy: 0.8819 - val_loss: 0.2682\n",
            "Epoch 6/50\n",
            "\u001b[1m200/200\u001b[0m \u001b[32m━━━━━━━━━━━━━━━━━━━━\u001b[0m\u001b[37m\u001b[0m \u001b[1m1s\u001b[0m 5ms/step - accuracy: 0.8949 - loss: 0.2530 - val_accuracy: 0.8913 - val_loss: 0.2456\n",
            "Epoch 7/50\n",
            "\u001b[1m200/200\u001b[0m \u001b[32m━━━━━━━━━━━━━━━━━━━━\u001b[0m\u001b[37m\u001b[0m \u001b[1m1s\u001b[0m 5ms/step - accuracy: 0.9103 - loss: 0.2178 - val_accuracy: 0.8769 - val_loss: 0.2646\n",
            "Epoch 8/50\n",
            "\u001b[1m200/200\u001b[0m \u001b[32m━━━━━━━━━━━━━━━━━━━━\u001b[0m\u001b[37m\u001b[0m \u001b[1m1s\u001b[0m 7ms/step - accuracy: 0.9110 - loss: 0.2155 - val_accuracy: 0.8719 - val_loss: 0.2739\n",
            "Epoch 9/50\n",
            "\u001b[1m200/200\u001b[0m \u001b[32m━━━━━━━━━━━━━━━━━━━━\u001b[0m\u001b[37m\u001b[0m \u001b[1m3s\u001b[0m 9ms/step - accuracy: 0.9279 - loss: 0.1754 - val_accuracy: 0.9100 - val_loss: 0.2043\n",
            "Epoch 10/50\n",
            "\u001b[1m200/200\u001b[0m \u001b[32m━━━━━━━━━━━━━━━━━━━━\u001b[0m\u001b[37m\u001b[0m \u001b[1m2s\u001b[0m 5ms/step - accuracy: 0.9211 - loss: 0.1864 - val_accuracy: 0.9019 - val_loss: 0.2226\n",
            "Epoch 11/50\n",
            "\u001b[1m200/200\u001b[0m \u001b[32m━━━━━━━━━━━━━━━━━━━━\u001b[0m\u001b[37m\u001b[0m \u001b[1m1s\u001b[0m 5ms/step - accuracy: 0.9372 - loss: 0.1568 - val_accuracy: 0.9069 - val_loss: 0.2031\n",
            "Epoch 12/50\n",
            "\u001b[1m200/200\u001b[0m \u001b[32m━━━━━━━━━━━━━━━━━━━━\u001b[0m\u001b[37m\u001b[0m \u001b[1m1s\u001b[0m 5ms/step - accuracy: 0.9394 - loss: 0.1546 - val_accuracy: 0.9237 - val_loss: 0.1734\n",
            "Epoch 13/50\n",
            "\u001b[1m200/200\u001b[0m \u001b[32m━━━━━━━━━━━━━━━━━━━━\u001b[0m\u001b[37m\u001b[0m \u001b[1m1s\u001b[0m 5ms/step - accuracy: 0.9442 - loss: 0.1382 - val_accuracy: 0.9169 - val_loss: 0.1839\n",
            "Epoch 14/50\n",
            "\u001b[1m200/200\u001b[0m \u001b[32m━━━━━━━━━━━━━━━━━━━━\u001b[0m\u001b[37m\u001b[0m \u001b[1m1s\u001b[0m 5ms/step - accuracy: 0.9489 - loss: 0.1297 - val_accuracy: 0.9144 - val_loss: 0.1945\n",
            "Epoch 15/50\n",
            "\u001b[1m200/200\u001b[0m \u001b[32m━━━━━━━━━━━━━━━━━━━━\u001b[0m\u001b[37m\u001b[0m \u001b[1m1s\u001b[0m 5ms/step - accuracy: 0.9405 - loss: 0.1393 - val_accuracy: 0.9256 - val_loss: 0.1629\n",
            "Epoch 16/50\n",
            "\u001b[1m200/200\u001b[0m \u001b[32m━━━━━━━━━━━━━━━━━━━━\u001b[0m\u001b[37m\u001b[0m \u001b[1m1s\u001b[0m 5ms/step - accuracy: 0.9473 - loss: 0.1262 - val_accuracy: 0.9194 - val_loss: 0.1820\n",
            "Epoch 17/50\n",
            "\u001b[1m200/200\u001b[0m \u001b[32m━━━━━━━━━━━━━━━━━━━━\u001b[0m\u001b[37m\u001b[0m \u001b[1m1s\u001b[0m 5ms/step - accuracy: 0.9506 - loss: 0.1239 - val_accuracy: 0.9225 - val_loss: 0.1775\n",
            "Epoch 18/50\n",
            "\u001b[1m200/200\u001b[0m \u001b[32m━━━━━━━━━━━━━━━━━━━━\u001b[0m\u001b[37m\u001b[0m \u001b[1m2s\u001b[0m 8ms/step - accuracy: 0.9477 - loss: 0.1228 - val_accuracy: 0.9256 - val_loss: 0.1911\n",
            "Epoch 19/50\n",
            "\u001b[1m200/200\u001b[0m \u001b[32m━━━━━━━━━━━━━━━━━━━━\u001b[0m\u001b[37m\u001b[0m \u001b[1m2s\u001b[0m 7ms/step - accuracy: 0.9521 - loss: 0.1128 - val_accuracy: 0.9019 - val_loss: 0.2572\n",
            "Epoch 20/50\n",
            "\u001b[1m200/200\u001b[0m \u001b[32m━━━━━━━━━━━━━━━━━━━━\u001b[0m\u001b[37m\u001b[0m \u001b[1m1s\u001b[0m 5ms/step - accuracy: 0.9334 - loss: 0.1597 - val_accuracy: 0.9187 - val_loss: 0.1884\n",
            "Epoch 21/50\n",
            "\u001b[1m200/200\u001b[0m \u001b[32m━━━━━━━━━━━━━━━━━━━━\u001b[0m\u001b[37m\u001b[0m \u001b[1m1s\u001b[0m 5ms/step - accuracy: 0.9600 - loss: 0.1035 - val_accuracy: 0.9312 - val_loss: 0.1680\n",
            "Epoch 22/50\n",
            "\u001b[1m200/200\u001b[0m \u001b[32m━━━━━━━━━━━━━━━━━━━━\u001b[0m\u001b[37m\u001b[0m \u001b[1m1s\u001b[0m 5ms/step - accuracy: 0.9599 - loss: 0.0995 - val_accuracy: 0.9337 - val_loss: 0.1573\n",
            "Epoch 23/50\n",
            "\u001b[1m200/200\u001b[0m \u001b[32m━━━━━━━━━━━━━━━━━━━━\u001b[0m\u001b[37m\u001b[0m \u001b[1m1s\u001b[0m 5ms/step - accuracy: 0.9545 - loss: 0.1104 - val_accuracy: 0.9306 - val_loss: 0.1712\n",
            "Epoch 24/50\n",
            "\u001b[1m200/200\u001b[0m \u001b[32m━━━━━━━━━━━━━━━━━━━━\u001b[0m\u001b[37m\u001b[0m \u001b[1m1s\u001b[0m 5ms/step - accuracy: 0.9590 - loss: 0.0971 - val_accuracy: 0.9212 - val_loss: 0.1810\n",
            "Epoch 25/50\n",
            "\u001b[1m200/200\u001b[0m \u001b[32m━━━━━━━━━━━━━━━━━━━━\u001b[0m\u001b[37m\u001b[0m \u001b[1m1s\u001b[0m 5ms/step - accuracy: 0.9580 - loss: 0.0993 - val_accuracy: 0.9013 - val_loss: 0.2523\n",
            "Epoch 26/50\n",
            "\u001b[1m200/200\u001b[0m \u001b[32m━━━━━━━━━━━━━━━━━━━━\u001b[0m\u001b[37m\u001b[0m \u001b[1m1s\u001b[0m 5ms/step - accuracy: 0.9608 - loss: 0.0930 - val_accuracy: 0.9231 - val_loss: 0.1848\n",
            "Epoch 27/50\n",
            "\u001b[1m200/200\u001b[0m \u001b[32m━━━━━━━━━━━━━━━━━━━━\u001b[0m\u001b[37m\u001b[0m \u001b[1m1s\u001b[0m 5ms/step - accuracy: 0.9602 - loss: 0.0940 - val_accuracy: 0.9275 - val_loss: 0.1774\n",
            "Epoch 28/50\n",
            "\u001b[1m200/200\u001b[0m \u001b[32m━━━━━━━━━━━━━━━━━━━━\u001b[0m\u001b[37m\u001b[0m \u001b[1m1s\u001b[0m 5ms/step - accuracy: 0.9569 - loss: 0.1074 - val_accuracy: 0.9281 - val_loss: 0.1794\n",
            "Epoch 29/50\n",
            "\u001b[1m200/200\u001b[0m \u001b[32m━━━━━━━━━━━━━━━━━━━━\u001b[0m\u001b[37m\u001b[0m \u001b[1m2s\u001b[0m 8ms/step - accuracy: 0.9758 - loss: 0.0689 - val_accuracy: 0.9256 - val_loss: 0.1814\n",
            "Epoch 30/50\n",
            "\u001b[1m200/200\u001b[0m \u001b[32m━━━━━━━━━━━━━━━━━━━━\u001b[0m\u001b[37m\u001b[0m \u001b[1m2s\u001b[0m 5ms/step - accuracy: 0.9561 - loss: 0.1026 - val_accuracy: 0.9181 - val_loss: 0.2085\n",
            "Epoch 31/50\n",
            "\u001b[1m200/200\u001b[0m \u001b[32m━━━━━━━━━━━━━━━━━━━━\u001b[0m\u001b[37m\u001b[0m \u001b[1m1s\u001b[0m 5ms/step - accuracy: 0.9654 - loss: 0.0871 - val_accuracy: 0.9312 - val_loss: 0.1625\n",
            "Epoch 32/50\n",
            "\u001b[1m200/200\u001b[0m \u001b[32m━━━━━━━━━━━━━━━━━━━━\u001b[0m\u001b[37m\u001b[0m \u001b[1m1s\u001b[0m 5ms/step - accuracy: 0.9685 - loss: 0.0806 - val_accuracy: 0.9194 - val_loss: 0.1984\n",
            "Epoch 33/50\n",
            "\u001b[1m200/200\u001b[0m \u001b[32m━━━━━━━━━━━━━━━━━━━━\u001b[0m\u001b[37m\u001b[0m \u001b[1m1s\u001b[0m 5ms/step - accuracy: 0.9634 - loss: 0.0849 - val_accuracy: 0.9187 - val_loss: 0.2035\n",
            "Epoch 34/50\n",
            "\u001b[1m200/200\u001b[0m \u001b[32m━━━━━━━━━━━━━━━━━━━━\u001b[0m\u001b[37m\u001b[0m \u001b[1m1s\u001b[0m 5ms/step - accuracy: 0.9577 - loss: 0.1019 - val_accuracy: 0.9275 - val_loss: 0.1810\n",
            "Epoch 35/50\n",
            "\u001b[1m200/200\u001b[0m \u001b[32m━━━━━━━━━━━━━━━━━━━━\u001b[0m\u001b[37m\u001b[0m \u001b[1m1s\u001b[0m 5ms/step - accuracy: 0.9686 - loss: 0.0731 - val_accuracy: 0.9119 - val_loss: 0.2193\n",
            "Epoch 36/50\n",
            "\u001b[1m200/200\u001b[0m \u001b[32m━━━━━━━━━━━━━━━━━━━━\u001b[0m\u001b[37m\u001b[0m \u001b[1m2s\u001b[0m 10ms/step - accuracy: 0.9582 - loss: 0.0934 - val_accuracy: 0.9306 - val_loss: 0.1811\n",
            "Epoch 37/50\n",
            "\u001b[1m200/200\u001b[0m \u001b[32m━━━━━━━━━━━━━━━━━━━━\u001b[0m\u001b[37m\u001b[0m \u001b[1m3s\u001b[0m 11ms/step - accuracy: 0.9810 - loss: 0.0565 - val_accuracy: 0.9400 - val_loss: 0.1560\n",
            "Epoch 38/50\n",
            "\u001b[1m200/200\u001b[0m \u001b[32m━━━━━━━━━━━━━━━━━━━━\u001b[0m\u001b[37m\u001b[0m \u001b[1m3s\u001b[0m 15ms/step - accuracy: 0.9811 - loss: 0.0564 - val_accuracy: 0.9350 - val_loss: 0.1738\n",
            "Epoch 39/50\n",
            "\u001b[1m200/200\u001b[0m \u001b[32m━━━━━━━━━━━━━━━━━━━━\u001b[0m\u001b[37m\u001b[0m \u001b[1m2s\u001b[0m 10ms/step - accuracy: 0.9844 - loss: 0.0490 - val_accuracy: 0.9344 - val_loss: 0.1694\n",
            "Epoch 40/50\n",
            "\u001b[1m200/200\u001b[0m \u001b[32m━━━━━━━━━━━━━━━━━━━━\u001b[0m\u001b[37m\u001b[0m \u001b[1m2s\u001b[0m 5ms/step - accuracy: 0.9713 - loss: 0.0689 - val_accuracy: 0.9337 - val_loss: 0.1822\n",
            "Epoch 41/50\n",
            "\u001b[1m200/200\u001b[0m \u001b[32m━━━━━━━━━━━━━━━━━━━━\u001b[0m\u001b[37m\u001b[0m \u001b[1m1s\u001b[0m 5ms/step - accuracy: 0.9621 - loss: 0.0867 - val_accuracy: 0.9237 - val_loss: 0.2313\n",
            "Epoch 42/50\n",
            "\u001b[1m200/200\u001b[0m \u001b[32m━━━━━━━━━━━━━━━━━━━━\u001b[0m\u001b[37m\u001b[0m \u001b[1m2s\u001b[0m 9ms/step - accuracy: 0.9683 - loss: 0.0769 - val_accuracy: 0.9225 - val_loss: 0.2066\n",
            "Epoch 43/50\n",
            "\u001b[1m200/200\u001b[0m \u001b[32m━━━━━━━━━━━━━━━━━━━━\u001b[0m\u001b[37m\u001b[0m \u001b[1m2s\u001b[0m 5ms/step - accuracy: 0.9786 - loss: 0.0541 - val_accuracy: 0.9169 - val_loss: 0.2636\n",
            "Epoch 44/50\n",
            "\u001b[1m200/200\u001b[0m \u001b[32m━━━━━━━━━━━━━━━━━━━━\u001b[0m\u001b[37m\u001b[0m \u001b[1m1s\u001b[0m 5ms/step - accuracy: 0.9793 - loss: 0.0538 - val_accuracy: 0.9194 - val_loss: 0.2322\n",
            "Epoch 45/50\n",
            "\u001b[1m200/200\u001b[0m \u001b[32m━━━━━━━━━━━━━━━━━━━━\u001b[0m\u001b[37m\u001b[0m \u001b[1m2s\u001b[0m 7ms/step - accuracy: 0.9667 - loss: 0.0748 - val_accuracy: 0.9300 - val_loss: 0.1868\n",
            "Epoch 46/50\n",
            "\u001b[1m200/200\u001b[0m \u001b[32m━━━━━━━━━━━━━━━━━━━━\u001b[0m\u001b[37m\u001b[0m \u001b[1m3s\u001b[0m 7ms/step - accuracy: 0.9873 - loss: 0.0421 - val_accuracy: 0.9325 - val_loss: 0.1877\n",
            "Epoch 47/50\n",
            "\u001b[1m200/200\u001b[0m \u001b[32m━━━━━━━━━━━━━━━━━━━━\u001b[0m\u001b[37m\u001b[0m \u001b[1m1s\u001b[0m 5ms/step - accuracy: 0.9821 - loss: 0.0498 - val_accuracy: 0.9325 - val_loss: 0.1904\n",
            "Epoch 48/50\n",
            "\u001b[1m200/200\u001b[0m \u001b[32m━━━━━━━━━━━━━━━━━━━━\u001b[0m\u001b[37m\u001b[0m \u001b[1m1s\u001b[0m 5ms/step - accuracy: 0.9776 - loss: 0.0537 - val_accuracy: 0.9337 - val_loss: 0.1843\n",
            "Epoch 49/50\n",
            "\u001b[1m200/200\u001b[0m \u001b[32m━━━━━━━━━━━━━━━━━━━━\u001b[0m\u001b[37m\u001b[0m \u001b[1m1s\u001b[0m 5ms/step - accuracy: 0.9815 - loss: 0.0500 - val_accuracy: 0.9356 - val_loss: 0.1771\n",
            "Epoch 50/50\n",
            "\u001b[1m200/200\u001b[0m \u001b[32m━━━━━━━━━━━━━━━━━━━━\u001b[0m\u001b[37m\u001b[0m \u001b[1m1s\u001b[0m 5ms/step - accuracy: 0.9816 - loss: 0.0505 - val_accuracy: 0.9225 - val_loss: 0.2264\n"
          ]
        }
      ]
    },
    {
      "cell_type": "code",
      "source": [
        "from sklearn.linear_model import LogisticRegression\n",
        "from sklearn.tree import DecisionTreeClassifier\n",
        "from sklearn.ensemble import RandomForestClassifier\n",
        "from sklearn.svm import SVC\n",
        "from sklearn.neighbors import KNeighborsClassifier\n",
        "\n",
        "# Khởi tạo các mô hình\n",
        "models = {\n",
        "    'Logistic Regression': LogisticRegression(max_iter=1000),\n",
        "    'Decision Tree': DecisionTreeClassifier(),\n",
        "    'Random Forest': RandomForestClassifier(n_estimators=100),\n",
        "    'SVM': SVC(),\n",
        "    'KNN': KNeighborsClassifier(n_neighbors=5)\n",
        "}\n",
        "\n",
        "# Huấn luyện các mô hình\n",
        "for name, model in models.items():\n",
        "    model.fit(X_train, y_train)\n",
        "    print(f\"{name} trained successfully!\")\n"
      ],
      "metadata": {
        "colab": {
          "base_uri": "https://localhost:8080/"
        },
        "id": "KOtHcPaN2P1d",
        "outputId": "eecbff27-f452-429d-9de1-8f0f2d1e6e47"
      },
      "execution_count": 15,
      "outputs": [
        {
          "output_type": "stream",
          "name": "stdout",
          "text": [
            "Logistic Regression trained successfully!\n",
            "Decision Tree trained successfully!\n",
            "Random Forest trained successfully!\n",
            "SVM trained successfully!\n",
            "KNN trained successfully!\n"
          ]
        }
      ]
    },
    {
      "cell_type": "code",
      "source": [
        "import numpy as np\n",
        "\n",
        "# Kiểm tra số chiều của y_test\n",
        "print(y_test.shape)\n",
        "\n",
        "# Nếu y_test đã là nhãn số nguyên (1 chiều), giữ nguyên:\n",
        "if y_test.ndim == 1:\n",
        "    y_test_classes = y_test\n",
        "else:\n",
        "    y_test_classes = np.argmax(y_test, axis=1)\n",
        "\n",
        "print(y_test_classes)\n"
      ],
      "metadata": {
        "colab": {
          "base_uri": "https://localhost:8080/"
        },
        "id": "cLvBUaAZ3x7l",
        "outputId": "1e56c985-aff9-4a83-f7c6-b3be2837aee3"
      },
      "execution_count": 16,
      "outputs": [
        {
          "output_type": "stream",
          "name": "stdout",
          "text": [
            "(2000,)\n",
            "6252    0\n",
            "4684    3\n",
            "1731    2\n",
            "4742    1\n",
            "4521    2\n",
            "       ..\n",
            "6412    0\n",
            "8285    1\n",
            "7853    0\n",
            "1095    0\n",
            "6929    3\n",
            "Name: Final_Grade, Length: 2000, dtype: int64\n"
          ]
        }
      ]
    },
    {
      "cell_type": "code",
      "source": [
        "import numpy as np\n",
        "\n",
        "# Chuyển y_test thành mảng numpy\n",
        "y_test = np.array(y_test)\n",
        "\n",
        "# Xử lý tương tự như trên\n",
        "if y_test.ndim == 1:\n",
        "    y_test_classes = y_test\n",
        "else:\n",
        "    y_test_classes = np.argmax(y_test, axis=1)\n"
      ],
      "metadata": {
        "id": "oLkt7tS139l7"
      },
      "execution_count": 17,
      "outputs": []
    },
    {
      "cell_type": "code",
      "source": [
        "y_pred = cnn_model.predict(X_test_cnn)\n",
        "\n",
        "# Chuyển xác suất thành nhãn dự đoán\n",
        "y_pred_classes = np.argmax(y_pred, axis=1)\n",
        "\n",
        "# Đánh giá mô hình\n",
        "from sklearn.metrics import accuracy_score\n",
        "\n",
        "print(\"Accuracy:\", accuracy_score(y_test_classes, y_pred_classes))\n"
      ],
      "metadata": {
        "colab": {
          "base_uri": "https://localhost:8080/"
        },
        "id": "vCPhS-Qr4BND",
        "outputId": "9901da2d-eb33-46da-e323-b61ff172a737"
      },
      "execution_count": 18,
      "outputs": [
        {
          "output_type": "stream",
          "name": "stdout",
          "text": [
            "\u001b[1m63/63\u001b[0m \u001b[32m━━━━━━━━━━━━━━━━━━━━\u001b[0m\u001b[37m\u001b[0m \u001b[1m0s\u001b[0m 3ms/step\n",
            "Accuracy: 0.9305\n"
          ]
        }
      ]
    },
    {
      "cell_type": "code",
      "source": [
        "print(\"y_test shape:\", y_test.shape, \"y_pred_classes shape:\", y_pred_classes.shape)\n",
        "print(\"y_test dtype:\", y_test.dtype, \"y_pred_classes dtype:\", y_pred_classes.dtype)\n"
      ],
      "metadata": {
        "colab": {
          "base_uri": "https://localhost:8080/"
        },
        "id": "cSlZOrns6yJV",
        "outputId": "b500b0f7-ada6-4b6c-db7b-e587b4750de2"
      },
      "execution_count": 19,
      "outputs": [
        {
          "output_type": "stream",
          "name": "stdout",
          "text": [
            "y_test shape: (2000,) y_pred_classes shape: (2000,)\n",
            "y_test dtype: int64 y_pred_classes dtype: int64\n"
          ]
        }
      ]
    },
    {
      "cell_type": "code",
      "source": [
        "y_test = y_test.astype(int)\n",
        "y_pred_classes = y_pred_classes.astype(int)\n"
      ],
      "metadata": {
        "id": "yzYH4z1Z63Sy"
      },
      "execution_count": 20,
      "outputs": []
    },
    {
      "cell_type": "code",
      "source": [
        "from sklearn.metrics import accuracy_score\n",
        "\n",
        "def evaluate_model(model, X_test, y_test):\n",
        "    y_pred = model.predict(X_test)\n",
        "    y_pred_classes = np.argmax(y_pred, axis=1)\n",
        "\n",
        "    # Đảm bảo y_test là dạng số nguyên\n",
        "    if y_test.ndim > 1:\n",
        "        y_test = np.argmax(y_test, axis=1)\n",
        "\n",
        "    return accuracy_score(y_test, y_pred_classes)\n"
      ],
      "metadata": {
        "id": "sDKLdTw568Fi"
      },
      "execution_count": 21,
      "outputs": []
    },
    {
      "cell_type": "code",
      "source": [
        "import numpy as np\n",
        "\n",
        "if 'pandas' in str(type(y_test)):\n",
        "    y_test = y_test.to_numpy()\n",
        "\n",
        "# Xử lý như trên\n",
        "\n"
      ],
      "metadata": {
        "id": "iovElC2G7D8j"
      },
      "execution_count": 22,
      "outputs": []
    },
    {
      "cell_type": "code",
      "source": [
        "from sklearn.metrics import accuracy_score, classification_report\n",
        "import numpy as np\n",
        "\n",
        "# Hàm đánh giá hiệu năng\n",
        "def evaluate_model(model, X_test, y_test, is_cnn=False):\n",
        "    if is_cnn:\n",
        "        y_pred = model.predict(X_test)\n",
        "        y_pred = np.argmax(y_pred, axis=1)  # Chuyển xác suất thành nhãn\n",
        "    else:\n",
        "        y_pred = model.predict(X_test)\n",
        "\n",
        "    print(classification_report(y_test, y_pred))\n",
        "    return accuracy_score(y_test, y_pred)\n",
        "\n",
        "# Đánh giá CNN (is_cnn=True để xử lý đầu ra softmax)\n",
        "cnn_acc = evaluate_model(cnn_model, X_test_cnn, y_test, is_cnn=True)\n",
        "\n",
        "# Đánh giá các mô hình truyền thống\n",
        "for name, model in models.items():\n",
        "    acc = evaluate_model(model, X_test, y_test)\n",
        "    print(f\"{name} Accuracy: {acc:.4f}\")\n",
        "\n"
      ],
      "metadata": {
        "colab": {
          "base_uri": "https://localhost:8080/"
        },
        "collapsed": true,
        "id": "AXMD-MZH7LmQ",
        "outputId": "0368944e-b74a-4d83-f64b-d0548ce912b9"
      },
      "execution_count": 23,
      "outputs": [
        {
          "output_type": "stream",
          "name": "stdout",
          "text": [
            "\u001b[1m63/63\u001b[0m \u001b[32m━━━━━━━━━━━━━━━━━━━━\u001b[0m\u001b[37m\u001b[0m \u001b[1m0s\u001b[0m 2ms/step\n",
            "              precision    recall  f1-score   support\n",
            "\n",
            "           0       0.95      0.97      0.96       533\n",
            "           1       0.89      0.91      0.90       471\n",
            "           2       0.92      0.89      0.90       495\n",
            "           3       0.96      0.95      0.95       501\n",
            "\n",
            "    accuracy                           0.93      2000\n",
            "   macro avg       0.93      0.93      0.93      2000\n",
            "weighted avg       0.93      0.93      0.93      2000\n",
            "\n",
            "              precision    recall  f1-score   support\n",
            "\n",
            "           0       1.00      1.00      1.00       533\n",
            "           1       1.00      1.00      1.00       471\n",
            "           2       1.00      1.00      1.00       495\n",
            "           3       1.00      1.00      1.00       501\n",
            "\n",
            "    accuracy                           1.00      2000\n",
            "   macro avg       1.00      1.00      1.00      2000\n",
            "weighted avg       1.00      1.00      1.00      2000\n",
            "\n",
            "Logistic Regression Accuracy: 0.9990\n",
            "              precision    recall  f1-score   support\n",
            "\n",
            "           0       1.00      1.00      1.00       533\n",
            "           1       1.00      1.00      1.00       471\n",
            "           2       1.00      1.00      1.00       495\n",
            "           3       1.00      1.00      1.00       501\n",
            "\n",
            "    accuracy                           1.00      2000\n",
            "   macro avg       1.00      1.00      1.00      2000\n",
            "weighted avg       1.00      1.00      1.00      2000\n",
            "\n",
            "Decision Tree Accuracy: 1.0000\n",
            "              precision    recall  f1-score   support\n",
            "\n",
            "           0       1.00      1.00      1.00       533\n",
            "           1       1.00      1.00      1.00       471\n",
            "           2       1.00      1.00      1.00       495\n",
            "           3       1.00      1.00      1.00       501\n",
            "\n",
            "    accuracy                           1.00      2000\n",
            "   macro avg       1.00      1.00      1.00      2000\n",
            "weighted avg       1.00      1.00      1.00      2000\n",
            "\n",
            "Random Forest Accuracy: 1.0000\n",
            "              precision    recall  f1-score   support\n",
            "\n",
            "           0       0.96      0.96      0.96       533\n",
            "           1       0.91      0.90      0.90       471\n",
            "           2       0.92      0.92      0.92       495\n",
            "           3       0.97      0.97      0.97       501\n",
            "\n",
            "    accuracy                           0.94      2000\n",
            "   macro avg       0.94      0.94      0.94      2000\n",
            "weighted avg       0.94      0.94      0.94      2000\n",
            "\n",
            "SVM Accuracy: 0.9380\n",
            "              precision    recall  f1-score   support\n",
            "\n",
            "           0       0.63      0.69      0.66       533\n",
            "           1       0.34      0.42      0.37       471\n",
            "           2       0.41      0.42      0.42       495\n",
            "           3       0.74      0.46      0.57       501\n",
            "\n",
            "    accuracy                           0.51      2000\n",
            "   macro avg       0.53      0.50      0.51      2000\n",
            "weighted avg       0.53      0.51      0.51      2000\n",
            "\n",
            "KNN Accuracy: 0.5050\n"
          ]
        }
      ]
    },
    {
      "cell_type": "code",
      "source": [
        "from sklearn.linear_model import LogisticRegression\n",
        "from sklearn.tree import DecisionTreeClassifier\n",
        "from sklearn.ensemble import RandomForestClassifier\n",
        "from sklearn.svm import SVC\n",
        "from sklearn.neighbors import KNeighborsClassifier\n",
        "\n",
        "# Khởi tạo và huấn luyện các mô hình\n",
        "models = {\n",
        "    'Logistic Regression': LogisticRegression(max_iter=1000),\n",
        "    'Decision Tree': DecisionTreeClassifier(),\n",
        "    'Random Forest': RandomForestClassifier(n_estimators=100),\n",
        "    'SVM': SVC(),\n",
        "    'KNN': KNeighborsClassifier(n_neighbors=5)\n",
        "}\n",
        "\n",
        "for name, model in models.items():\n",
        "    model.fit(X_train, y_train)\n",
        "    print(f\"{name} trained successfully!\")\n"
      ],
      "metadata": {
        "colab": {
          "base_uri": "https://localhost:8080/"
        },
        "id": "QSYJDky2pIyP",
        "outputId": "f79ca4b2-ccd5-47bf-b55e-d9725a8d95fa"
      },
      "execution_count": 24,
      "outputs": [
        {
          "output_type": "stream",
          "name": "stdout",
          "text": [
            "Logistic Regression trained successfully!\n",
            "Decision Tree trained successfully!\n",
            "Random Forest trained successfully!\n",
            "SVM trained successfully!\n",
            "KNN trained successfully!\n"
          ]
        }
      ]
    },
    {
      "cell_type": "code",
      "source": [
        "import matplotlib.pyplot as plt\n",
        "from sklearn.metrics import accuracy_score\n",
        "\n",
        "# Tạo danh sách tên mô hình và độ chính xác\n",
        "model_names = ['CNN'] + list(models.keys())\n",
        "accuracies = [cnn_acc] + [accuracy_score(y_test, model.predict(X_test)) for model in models.values()]\n",
        "\n",
        "# Vẽ biểu đồ so sánh\n",
        "plt.figure(figsize=(10, 6))\n",
        "plt.bar(model_names, accuracies, color='skyblue')\n",
        "plt.ylabel('Accuracy')\n",
        "plt.title('So sánh độ chính xác giữa các thuật toán')\n",
        "plt.xticks(rotation=45)\n",
        "plt.show()\n",
        "\n"
      ],
      "metadata": {
        "colab": {
          "base_uri": "https://localhost:8080/",
          "height": 635
        },
        "id": "etcxayheooZ3",
        "outputId": "c9d3c71d-d089-4344-8267-4b2b3d565210"
      },
      "execution_count": 26,
      "outputs": [
        {
          "output_type": "display_data",
          "data": {
            "text/plain": [
              "<Figure size 1000x600 with 1 Axes>"
            ],
            "image/png": "[encoded data removed]"
          },
          "metadata": {}
        }
      ]
    }
  ]
}